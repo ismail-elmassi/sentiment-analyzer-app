{
 "cells": [
  {
   "cell_type": "code",
   "execution_count": 35,
   "metadata": {
    "execution": {
     "iopub.execute_input": "2024-06-18T20:15:19.594733Z",
     "iopub.status.busy": "2024-06-18T20:15:19.594335Z",
     "iopub.status.idle": "2024-06-18T20:15:19.601705Z",
     "shell.execute_reply": "2024-06-18T20:15:19.600668Z",
     "shell.execute_reply.started": "2024-06-18T20:15:19.594702Z"
    }
   },
   "outputs": [],
   "source": [
    "# https://www.kaggle.com/code/emirkocak/in-depth-series-sentiment-analysis-w-transformers\n",
    "import torch\n",
    "import torch.nn as nn\n",
    "import torchtext\n",
    "from torchtext.data.functional import generate_sp_model, load_sp_model, sentencepiece_tokenizer, sentencepiece_numericalizer\n",
    "from torchtext.vocab import build_vocab_from_iterator\n",
    "import torchtext.transforms as T\n",
    "from torch.nn import functional as F\n",
    "import torch.optim as optim\n",
    "\n",
    "import sys\n",
    "import numpy as np\n",
    "import pandas as pd\n",
    "import matplotlib.pyplot as plt\n",
    "import io\n",
    "import math\n",
    "from torch.utils.data import Dataset, DataLoader\n",
    "import torch.utils.data.dataloader as dataloader\n",
    "import os\n",
    "import re"
   ]
  },
  {
   "cell_type": "code",
   "execution_count": 36,
   "metadata": {
    "execution": {
     "iopub.execute_input": "2024-06-18T20:15:19.603864Z",
     "iopub.status.busy": "2024-06-18T20:15:19.603558Z",
     "iopub.status.idle": "2024-06-18T20:15:19.614484Z",
     "shell.execute_reply": "2024-06-18T20:15:19.613782Z",
     "shell.execute_reply.started": "2024-06-18T20:15:19.603841Z"
    }
   },
   "outputs": [],
   "source": [
    "root = \"/kaggle/input/movies\""
   ]
  },
  {
   "cell_type": "code",
   "execution_count": 1,
   "metadata": {},
   "outputs": [],
   "source": [
    "with open(os.path.join(root, \"reviews.csv\"), encoding='latin-1') as f:\n",
    "        with open(os.path.join(\"/kaggle/working\", \"data.txt\"), \"w\") as f2:\n",
    "            for line in f:\n",
    "                text_only = \"\".join(line.split(\",\")[:-1])\n",
    "                filtered = re.sub(r'\\\\|\\\\n|;', ' ', text_only.replace('\"', ' ').replace('\\n', ' ')) # Replaces double quotes with a space, and \\n with a space\n",
    "                # Replaces \\\\, \\\\n, and; with a space\n",
    "                # Replaces HTML codes with real characters\n",
    "                filtered = filtered.replace(' #39;', \"'\")\n",
    "                filtered = filtered.replace(' #38;', \"&\")\n",
    "                filtered = filtered.replace(' #36;', \"$\")\n",
    "                filtered = filtered.replace(' #151;', \"-\")\n",
    "                f2.write(filtered.lower() + \"\\n\")"
   ]
  },
  {
   "cell_type": "code",
   "execution_count": null,
   "metadata": {
    "execution": {
     "iopub.status.busy": "2024-06-18T20:15:20.579791Z",
     "iopub.status.idle": "2024-06-18T20:15:20.580177Z",
     "shell.execute_reply": "2024-06-18T20:15:20.579972Z",
     "shell.execute_reply.started": "2024-06-18T20:15:20.579959Z"
    }
   },
   "outputs": [],
   "source": [
    "# Generate the SentencePiece tokenizer\n",
    "# Text tokenizer and detokenizer\n",
    "# It will tokenize words into subpieces instead of words\n",
    "# This function will create a set of subtokens to fit the set vocabulary size\n",
    "# There will always be enough subwords to subtokenize a dataset if you think about it :) -> max 2 length pairs = 26!\n",
    "# Saved in the home directory\n",
    "generate_sp_model(os.path.join(\"/kaggle/working\", \"data.txt\"), vocab_size=30000, model_prefix='/kaggle/working/transformer')"
   ]
  },
  {
   "cell_type": "code",
   "execution_count": null,
   "metadata": {
    "execution": {
     "iopub.status.busy": "2024-06-18T20:15:20.581776Z",
     "iopub.status.idle": "2024-06-18T20:15:20.582224Z",
     "shell.execute_reply": "2024-06-18T20:15:20.582019Z",
     "shell.execute_reply.started": "2024-06-18T20:15:20.581997Z"
    }
   },
   "outputs": [],
   "source": [
    "class IMDB(Dataset):\n",
    "    def __init__(self, root):\n",
    "        self.root = root\n",
    "\n",
    "        # Reads the file into a pandas DataFrame with Latin-1 encoding\n",
    "        self.df = pd.read_csv(os.path.join(root, \"reviews.csv\"), names=[\"Article\", \"Class\"], encoding='latin-1')\n",
    "\n",
    "        # Replaces empty entries with a space\n",
    "        self.df.fillna('', inplace=True)\n",
    "\n",
    "        # Clean the 'Article' column\n",
    "        self.df['Article'] = self.df['Article'].str.replace(r'\\\\n|\\\\|\\\\r|\\\\r\\\\n|\\n|\"', ' ', regex=True)\n",
    "        self.df['Article'] = self.df['Article'].replace({' #39;': \"'\", ' #38;': \"&\", ' #36;': \"$\", ' #151;': \"-\"}, regex=True)\n",
    "\n",
    "    # To use for DataLoader\n",
    "    def __getitem__(self, index):\n",
    "        text = self.df.loc[index][\"Article\"].lower()\n",
    "        \n",
    "        class_label = self.df.loc[index][\"Class\"]\n",
    "\n",
    "        if class_label == 'positive':\n",
    "            class_index = 1\n",
    "        else:\n",
    "            class_index = 0\n",
    "            \n",
    "        return class_label, text\n",
    "\n",
    "    def __len__(self):\n",
    "        return len(self.df)\n",
    "\n",
    "# Example usage:\n",
    "train_dataset = IMDB(root)\n",
    "print(len(train_dataset))\n",
    "print(train_dataset.df.loc[0][\"Article\"])\n",
    "print(train_dataset.df.loc[0][\"Class\"])\n"
   ]
  },
  {
   "cell_type": "code",
   "execution_count": null,
   "metadata": {
    "execution": {
     "iopub.status.busy": "2024-06-18T20:15:20.583999Z",
     "iopub.status.idle": "2024-06-18T20:15:20.584473Z",
     "shell.execute_reply": "2024-06-18T20:15:20.584234Z",
     "shell.execute_reply.started": "2024-06-18T20:15:20.584215Z"
    }
   },
   "outputs": [],
   "source": [
    "# Split 90% - 10%\n",
    "validation_split = 0.9\n",
    "\n",
    "# Total train examples\n",
    "n_train_examples = int(len(train_dataset) * validation_split)\n",
    "\n",
    "# Total validation examples\n",
    "n_valid_examples = len(train_dataset) - n_train_examples\n",
    "\n",
    "# Splits them based on values provided\n",
    "train_data, valid_data = torch.utils.data.random_split(train_dataset, [n_train_examples, n_valid_examples], generator=torch.Generator().manual_seed(42))"
   ]
  },
  {
   "cell_type": "code",
   "execution_count": null,
   "metadata": {
    "execution": {
     "iopub.status.busy": "2024-06-18T20:15:20.585633Z",
     "iopub.status.idle": "2024-06-18T20:15:20.586088Z",
     "shell.execute_reply": "2024-06-18T20:15:20.585875Z",
     "shell.execute_reply.started": "2024-06-18T20:15:20.585854Z"
    }
   },
   "outputs": [],
   "source": [
    "# Create dataloaders for the training and testing datasets\n",
    "# Dataloaders allow for batching, shuffling\n",
    "\n",
    "batch_size = 128\n",
    "\n",
    "train_loader = dataloader.DataLoader(train_data, shuffle=True, batch_size=batch_size, drop_last = True)\n",
    "\n",
    "test_loader = dataloader.DataLoader(valid_data, shuffle=True, batch_size=batch_size, drop_last = True)"
   ]
  },
  {
   "cell_type": "code",
   "execution_count": null,
   "metadata": {},
   "outputs": [],
   "source": [
    "def yield_tokens(file_path):\n",
    "    with io.open(file_path, encoding='utf-8') as f:\n",
    "        # Iterate through each line in the file\n",
    "        for line in f:\n",
    "            # Accesses the vocab file, splits the line by tab, and gets the first entry (the actual token)\n",
    "            # Yield the token from the first column (split by tab)\n",
    "            yield [line.split(\"\\t\")[0]]\n",
    "\n",
    "# Build a vocabulary from the tokens yielded by the yield_tokens function\n",
    "    # <pad> is a padding token that is added to the end of a sentence to ensure the length of all sequences in a batch is the same\n",
    "    # <sos> signals the \"Start-Of-Sentence\" aka the start of the sequence\n",
    "    # <eos> signal the \"End-Of-Sentence\" aka the end of the sequence\n",
    "    # <unk> \"unknown\" token is used if a token is not contained in the vocab\n",
    "# From torchtext library (build_vocab_from_iterator)\n",
    "# Builds a generator object, that is treated like an iterator\n",
    "vocab = build_vocab_from_iterator(yield_tokens(\"/kaggle/working/transformer.vocab\"), specials=['<cls>', '<pad>', '<eos>', '<unk>'], special_first=True)\n",
    "\n",
    "# Set the default index for unknown tokens to the index of the '<unk>' token\n",
    "vocab.set_default_index(vocab['<unk>'])"
   ]
  },
  {
   "cell_type": "code",
   "execution_count": null,
   "metadata": {},
   "outputs": [],
   "source": [
    "# Maximum sequence length for text inputs\n",
    "max_len = 256\n",
    "\n",
    "# Data transform to turn text into vocab tokens\n",
    "text_transform = T.Sequential(\n",
    "    # Tokenize with pre-existing Tokenizer\n",
    "    T.SentencePieceTokenizer(\"/kaggle/working/transformer.model\"),\n",
    "    # Converts the sentences to indices based on given vocabulary\n",
    "    T.VocabTransform(vocab=vocab),\n",
    "    # Add <sos> at the beginning of each sentence. 1 because the index for <sos> in the vocabulary is 1 as seen in previous section\n",
    "    T.AddToken(vocab['<sos>'], begin=True),\n",
    "    # Crop the sentence if it is longer than the max length minus 2 to accommodate <sos> and <eos> tokens\n",
    "    T.Truncate(max_seq_len=max_len-2),\n",
    "    # Add <eos> at the end of each sentence. 2 because the index for <eos> in the vocabulary is 2 as seen in previous section\n",
    "    T.AddToken(vocab['<eos>'], begin=False),\n",
    "    # Convert the list of lists to a tensor. This will also pad a sentence with the <pad> token if it is shorter than the max length.\n",
    "    # This ensures all sentences are the same length!\n",
    "    T.ToTensor(padding_value=vocab['<pad>']),\n",
    "    # Pad the sequence to ensure it's exactly max_len tokens long\n",
    "    T.PadTransform(max_length=max_len, pad_value=0),\n",
    ")"
   ]
  },
  {
   "cell_type": "code",
   "execution_count": 47,
   "metadata": {
    "execution": {
     "iopub.execute_input": "2024-06-18T20:39:13.437918Z",
     "iopub.status.busy": "2024-06-18T20:39:13.437560Z",
     "iopub.status.idle": "2024-06-18T20:39:13.444134Z",
     "shell.execute_reply": "2024-06-18T20:39:13.443171Z",
     "shell.execute_reply.started": "2024-06-18T20:39:13.437888Z"
    }
   },
   "outputs": [],
   "source": [
    "class FeedForward(nn.Module):\n",
    "    def __init__(self, n_embd):\n",
    "        super().__init__()\n",
    "        self.net = nn.Sequential(\n",
    "            nn.Linear(n_embd, 4 * n_embd),\n",
    "            nn.ReLU(),\n",
    "            nn.Linear(4 * n_embd, n_embd),\n",
    "            nn.Dropout(dropout),\n",
    "        )\n",
    "    \n",
    "    def forward(self, x):\n",
    "        return self.net(x)"
   ]
  },
  {
   "cell_type": "code",
   "execution_count": 48,
   "metadata": {
    "execution": {
     "iopub.execute_input": "2024-06-18T20:39:15.987291Z",
     "iopub.status.busy": "2024-06-18T20:39:15.986466Z",
     "iopub.status.idle": "2024-06-18T20:39:15.993878Z",
     "shell.execute_reply": "2024-06-18T20:39:15.992887Z",
     "shell.execute_reply.started": "2024-06-18T20:39:15.987255Z"
    }
   },
   "outputs": [],
   "source": [
    "class Block(nn.Module):\n",
    "    # Transformer followed by computation\n",
    "    def __init__(self, n_embd, n_head):\n",
    "        super().__init__()\n",
    "        head_size = n_embd // n_head\n",
    "        self.sa = MultiHeadAttention(n_head, head_size)\n",
    "        self.ln1 = nn.LayerNorm(n_embd)\n",
    "        self.ffwd = FeedForward(n_embd)\n",
    "        self.ln2 = nn.LayerNorm(n_embd)\n",
    "\n",
    "    def forward(self, x):\n",
    "        x = x + self.sa(self.ln1(x)) # Residual connection\n",
    "        x = x + self.ffwd(self.ln2(x))\n",
    "        return x"
   ]
  },
  {
   "cell_type": "code",
   "execution_count": 49,
   "metadata": {
    "execution": {
     "iopub.execute_input": "2024-06-18T20:39:17.937281Z",
     "iopub.status.busy": "2024-06-18T20:39:17.936765Z",
     "iopub.status.idle": "2024-06-18T20:39:17.945152Z",
     "shell.execute_reply": "2024-06-18T20:39:17.944186Z",
     "shell.execute_reply.started": "2024-06-18T20:39:17.937252Z"
    }
   },
   "outputs": [],
   "source": [
    "class Head(nn.Module):\n",
    "    def __init__(self, head_size):\n",
    "        super().__init__()\n",
    "        self.key = nn.Linear(n_embd, head_size, bias=False)\n",
    "        self.query = nn.Linear(n_embd, head_size, bias=False)\n",
    "        self.value = nn.Linear(n_embd, head_size, bias=False)\n",
    "#         self.register_buffer('tril', torch.tril(torch.ones(block_size, block_size)))\n",
    "        self.dropout = nn.Dropout(dropout)\n",
    "\n",
    "    def forward(self, x):\n",
    "        B, T, C = x.shape\n",
    "        k = self.key(x)\n",
    "        q = self.query(x)\n",
    "        wei = q @ k.transpose(-2, -1) * C ** -0.5\n",
    "#         wei = wei.masked_fill(self.tril[:T, :T] == 0, float('-inf'))\n",
    "        wei = F.softmax(wei, dim=-1)\n",
    "        wei = self.dropout(wei)\n",
    "        v = self.value(x)\n",
    "        out = wei @ v\n",
    "        return out"
   ]
  },
  {
   "cell_type": "code",
   "execution_count": 50,
   "metadata": {
    "execution": {
     "iopub.execute_input": "2024-06-18T20:39:19.353334Z",
     "iopub.status.busy": "2024-06-18T20:39:19.352969Z",
     "iopub.status.idle": "2024-06-18T20:39:19.360291Z",
     "shell.execute_reply": "2024-06-18T20:39:19.359353Z",
     "shell.execute_reply.started": "2024-06-18T20:39:19.353304Z"
    }
   },
   "outputs": [],
   "source": [
    "\"\"\"\n",
    "Defines multi-head attention, given num_heads\n",
    "\"\"\"\n",
    "class MultiHeadAttention(nn.Module):\n",
    "    def __init__(self, num_heads, head_size):\n",
    "        super().__init__()\n",
    "        self.heads = nn.ModuleList([Head(head_size) for _ in range(num_heads)])\n",
    "        self.proj = nn.Linear(n_embd, n_embd)\n",
    "        self.dropout = nn.Dropout(dropout)\n",
    "\n",
    "    def forward(self, x):\n",
    "        out = torch.cat([h(x) for h in self.heads], dim = -1)\n",
    "        out = self.dropout(self.proj(out))\n",
    "        return out"
   ]
  },
  {
   "cell_type": "code",
   "execution_count": 51,
   "metadata": {
    "execution": {
     "iopub.execute_input": "2024-06-18T20:39:21.487484Z",
     "iopub.status.busy": "2024-06-18T20:39:21.486589Z",
     "iopub.status.idle": "2024-06-18T20:39:21.495506Z",
     "shell.execute_reply": "2024-06-18T20:39:21.494578Z",
     "shell.execute_reply.started": "2024-06-18T20:39:21.487448Z"
    }
   },
   "outputs": [],
   "source": [
    "class Transformer(nn.Module):\n",
    "    \n",
    "    def __init__(self):\n",
    "        \n",
    "        super().__init__()\n",
    "        \n",
    "        # Each token directly reads off the logits for the next token from a lookup table\n",
    "        self.token_embedding_table = nn.Embedding(vocab_size, n_embd)\n",
    "        self.position_embedding_table = nn.Embedding(block_size + 1, n_embd)\n",
    "                                                    \n",
    "        # self.sa_heads = MultiHeadAttention(4, n_embd//4) # Four heads, 8-dim self-attention\n",
    "        # self.ffwd = FeedForward(n_embd)\n",
    "        self.blocks = nn.Sequential(*[Block(n_embd, n_head = n_head) for _ in range(n_layer)])\n",
    "        self.ln_f = nn.LayerNorm(n_embd)\n",
    "        self.lm_head = nn.Linear(n_embd, output_size)\n",
    " \n",
    "    def forward(self, idx, targets=None):\n",
    "        B, T = idx.shape\n",
    "        tok_emb = self.token_embedding_table(idx) # (B, T, C)\n",
    "        pos_emb = self.position_embedding_table(torch.arange(T, device = device)) # (T, C)\n",
    "        x = tok_emb + pos_emb # (B,T,C) -> broadcasted\n",
    "        x = self.blocks(x)\n",
    "        x = self.ln_f(x)\n",
    "        logits = self.lm_head(x) # (B, T, output_size)\n",
    "\n",
    "        return logits"
   ]
  },
  {
   "cell_type": "code",
   "execution_count": 54,
   "metadata": {
    "execution": {
     "iopub.execute_input": "2024-06-18T20:39:36.756883Z",
     "iopub.status.busy": "2024-06-18T20:39:36.756515Z",
     "iopub.status.idle": "2024-06-18T20:39:36.762039Z",
     "shell.execute_reply": "2024-06-18T20:39:36.761126Z",
     "shell.execute_reply.started": "2024-06-18T20:39:36.756852Z"
    }
   },
   "outputs": [],
   "source": [
    "# Hyperparameters\n",
    "device = 'cuda' if torch.cuda.is_available() else 'cpu'\n",
    "block_size = 256\n",
    "n_embd = 768\n",
    "n_head = 12\n",
    "n_layer = 2\n",
    "dropout = 0.3\n",
    "nepochs = 100\n",
    "output_size = 2\n",
    "vocab_size = len(vocab)\n",
    "learning_rate = 5e-4"
   ]
  },
  {
   "cell_type": "code",
   "execution_count": 55,
   "metadata": {
    "execution": {
     "iopub.execute_input": "2024-06-18T20:39:37.863938Z",
     "iopub.status.busy": "2024-06-18T20:39:37.863560Z",
     "iopub.status.idle": "2024-06-18T20:39:38.300140Z",
     "shell.execute_reply": "2024-06-18T20:39:38.299291Z",
     "shell.execute_reply.started": "2024-06-18T20:39:37.863907Z"
    }
   },
   "outputs": [],
   "source": [
    "# Define the model\n",
    "\n",
    "model = Transformer()\n",
    "\n",
    "model.to(device)\n",
    "\n",
    "lr_scheduler = torch.optim.lr_scheduler.CosineAnnealingLR(optimizer, T_max=nepochs, eta_min=0)\n",
    "\n",
    "optimizer = optim.Adam(model.parameters(), lr=learning_rate, weight_decay=5e-4)\n",
    "\n",
    "loss_fn = nn.CrossEntropyLoss()\n",
    "\n",
    "training_loss_list = []\n",
    "test_loss_list = []\n",
    "training_acc_list = []\n",
    "test_acc_list = []"
   ]
  },
  {
   "cell_type": "code",
   "execution_count": 56,
   "metadata": {
    "execution": {
     "iopub.execute_input": "2024-06-18T20:39:39.887588Z",
     "iopub.status.busy": "2024-06-18T20:39:39.886730Z",
     "iopub.status.idle": "2024-06-18T22:48:38.221501Z",
     "shell.execute_reply": "2024-06-18T22:48:38.220255Z",
     "shell.execute_reply.started": "2024-06-18T20:39:39.887553Z"
    }
   },
   "outputs": [
    {
     "name": "stdout",
     "output_type": "stream",
     "text": [
      "training\n",
      "evaluating\n",
      "Epoch 1/100\n",
      "Training Accuracy: 69.04%\n",
      "Testing Accuracy: 77.58%\n",
      "training\n",
      "evaluating\n",
      "Epoch 2/100\n",
      "Training Accuracy: 80.08%\n",
      "Testing Accuracy: 79.93%\n",
      "training\n",
      "evaluating\n",
      "Epoch 3/100\n",
      "Training Accuracy: 82.24%\n",
      "Testing Accuracy: 82.41%\n",
      "training\n",
      "evaluating\n",
      "Epoch 4/100\n",
      "Training Accuracy: 83.78%\n",
      "Testing Accuracy: 83.17%\n",
      "training\n",
      "evaluating\n",
      "Epoch 5/100\n",
      "Training Accuracy: 84.99%\n",
      "Testing Accuracy: 84.15%\n",
      "training\n",
      "evaluating\n",
      "Epoch 6/100\n",
      "Training Accuracy: 86.07%\n",
      "Testing Accuracy: 84.40%\n",
      "training\n",
      "evaluating\n",
      "Epoch 7/100\n",
      "Training Accuracy: 86.91%\n",
      "Testing Accuracy: 84.76%\n",
      "training\n",
      "evaluating\n",
      "Epoch 8/100\n",
      "Training Accuracy: 87.85%\n",
      "Testing Accuracy: 83.89%\n",
      "training\n",
      "evaluating\n",
      "Epoch 9/100\n",
      "Training Accuracy: 88.54%\n",
      "Testing Accuracy: 85.38%\n",
      "training\n",
      "evaluating\n",
      "Epoch 10/100\n",
      "Training Accuracy: 89.16%\n",
      "Testing Accuracy: 83.33%\n",
      "training\n",
      "evaluating\n",
      "Epoch 11/100\n",
      "Training Accuracy: 90.12%\n",
      "Testing Accuracy: 85.46%\n",
      "training\n",
      "evaluating\n",
      "Epoch 12/100\n",
      "Training Accuracy: 90.49%\n",
      "Testing Accuracy: 84.54%\n",
      "training\n",
      "evaluating\n",
      "Epoch 13/100\n",
      "Training Accuracy: 91.25%\n",
      "Testing Accuracy: 84.92%\n",
      "training\n",
      "evaluating\n",
      "Epoch 14/100\n",
      "Training Accuracy: 92.02%\n",
      "Testing Accuracy: 84.58%\n",
      "training\n",
      "evaluating\n",
      "Epoch 15/100\n",
      "Training Accuracy: 92.47%\n",
      "Testing Accuracy: 85.80%\n",
      "training\n",
      "evaluating\n",
      "Epoch 16/100\n",
      "Training Accuracy: 93.12%\n",
      "Testing Accuracy: 85.66%\n",
      "training\n",
      "evaluating\n",
      "Epoch 17/100\n",
      "Training Accuracy: 93.46%\n",
      "Testing Accuracy: 85.32%\n",
      "training\n",
      "evaluating\n",
      "Epoch 18/100\n",
      "Training Accuracy: 94.52%\n",
      "Testing Accuracy: 84.23%\n",
      "training\n",
      "evaluating\n",
      "Epoch 19/100\n",
      "Training Accuracy: 94.82%\n",
      "Testing Accuracy: 84.62%\n",
      "training\n",
      "evaluating\n",
      "Epoch 20/100\n",
      "Training Accuracy: 95.26%\n",
      "Testing Accuracy: 85.42%\n",
      "training\n",
      "evaluating\n",
      "Epoch 21/100\n",
      "Training Accuracy: 95.75%\n",
      "Testing Accuracy: 84.29%\n",
      "training\n",
      "evaluating\n",
      "Epoch 22/100\n",
      "Training Accuracy: 96.02%\n",
      "Testing Accuracy: 84.64%\n",
      "training\n",
      "evaluating\n",
      "Epoch 23/100\n",
      "Training Accuracy: 96.54%\n",
      "Testing Accuracy: 85.42%\n",
      "training\n",
      "evaluating\n",
      "Epoch 24/100\n",
      "Training Accuracy: 96.72%\n",
      "Testing Accuracy: 85.00%\n",
      "training\n",
      "evaluating\n",
      "Epoch 25/100\n",
      "Training Accuracy: 97.13%\n",
      "Testing Accuracy: 85.92%\n",
      "training\n",
      "evaluating\n",
      "Epoch 26/100\n",
      "Training Accuracy: 97.16%\n",
      "Testing Accuracy: 84.94%\n",
      "training\n",
      "evaluating\n",
      "Epoch 27/100\n",
      "Training Accuracy: 97.48%\n",
      "Testing Accuracy: 85.58%\n",
      "training\n",
      "evaluating\n",
      "Epoch 28/100\n",
      "Training Accuracy: 97.60%\n",
      "Testing Accuracy: 85.58%\n",
      "training\n",
      "evaluating\n",
      "Epoch 29/100\n",
      "Training Accuracy: 97.64%\n",
      "Testing Accuracy: 85.82%\n",
      "training\n",
      "evaluating\n",
      "Epoch 30/100\n",
      "Training Accuracy: 97.72%\n",
      "Testing Accuracy: 85.96%\n",
      "training\n",
      "evaluating\n",
      "Epoch 31/100\n",
      "Training Accuracy: 98.21%\n",
      "Testing Accuracy: 84.96%\n",
      "training\n",
      "evaluating\n",
      "Epoch 32/100\n",
      "Training Accuracy: 97.94%\n",
      "Testing Accuracy: 85.34%\n",
      "training\n"
     ]
    },
    {
     "ename": "KeyboardInterrupt",
     "evalue": "",
     "output_type": "error",
     "traceback": [
      "\u001b[0;31m---------------------------------------------------------------------------\u001b[0m",
      "\u001b[0;31mKeyboardInterrupt\u001b[0m                         Traceback (most recent call last)",
      "Cell \u001b[0;32mIn[56], line 29\u001b[0m\n\u001b[1;32m     24\u001b[0m         optimizer\u001b[38;5;241m.\u001b[39mstep()\n\u001b[1;32m     26\u001b[0m \u001b[38;5;66;03m#         print(loss)\u001b[39;00m\n\u001b[1;32m     27\u001b[0m     \n\u001b[1;32m     28\u001b[0m         \u001b[38;5;66;03m# Log the training loss\u001b[39;00m\n\u001b[0;32m---> 29\u001b[0m         training_loss_list\u001b[38;5;241m.\u001b[39mappend(\u001b[43mloss\u001b[49m\u001b[38;5;241;43m.\u001b[39;49m\u001b[43mitem\u001b[49m\u001b[43m(\u001b[49m\u001b[43m)\u001b[49m)\n\u001b[1;32m     31\u001b[0m         \u001b[38;5;66;03m# Update training accuracy\u001b[39;00m\n\u001b[1;32m     32\u001b[0m         train_acc_count \u001b[38;5;241m+\u001b[39m\u001b[38;5;241m=\u001b[39m (logits[:, \u001b[38;5;241m0\u001b[39m, :]\u001b[38;5;241m.\u001b[39margmax(\u001b[38;5;241m1\u001b[39m) \u001b[38;5;241m==\u001b[39m labels)\u001b[38;5;241m.\u001b[39msum()\u001b[38;5;241m.\u001b[39mitem()\n",
      "\u001b[0;31mKeyboardInterrupt\u001b[0m: "
     ]
    }
   ],
   "source": [
    "# Training Loop\n",
    "# Train for 10 epochs or so... first\n",
    "train_acc = 0\n",
    "test_acc = 0\n",
    "\n",
    "for epoch in range(nepochs):\n",
    "\n",
    "    model.train()\n",
    "    \n",
    "    print(\"training\")\n",
    "    \n",
    "    train_acc_count = 0\n",
    "    test_acc_count = 0\n",
    "    train_steps = 0\n",
    "    \n",
    "    for labels, texts in train_loader:\n",
    "        text_tokens = text_transform(list(texts)).to(device)\n",
    "        labels = labels.to(device)\n",
    "        logits = model(text_tokens)\n",
    "        loss = F.cross_entropy(logits[:, 0, :], labels)\n",
    "        \n",
    "        optimizer.zero_grad(set_to_none=True)\n",
    "        loss.backward()\n",
    "        optimizer.step()\n",
    "        \n",
    "#         print(loss)\n",
    "    \n",
    "        # Log the training loss\n",
    "        training_loss_list.append(loss.item())\n",
    "        \n",
    "        # Update training accuracy\n",
    "        train_acc_count += (logits[:, 0, :].argmax(1) == labels).sum().item()\n",
    "        train_steps += batch_size\n",
    "    \n",
    "    # Calculate average training accuracy\n",
    "    train_acc = (train_acc_count / train_steps)\n",
    "    training_acc_list.append(train_acc)\n",
    "    \n",
    "    # Update learning rate\n",
    "    lr_scheduler.step()\n",
    "    \n",
    "    # Set the model to evaluation mode\n",
    "    model.eval()\n",
    "    \n",
    "    print(\"evaluating\")\n",
    "    train_acc_count = 0\n",
    "    test_acc_count = 0\n",
    "    test_steps = 0\n",
    "    \n",
    "    \n",
    "    with torch.no_grad():\n",
    "        for labels, texts in test_loader:\n",
    "            text_tokens = text_transform(list(texts)).to(device)\n",
    "            labels = labels.to(device)\n",
    "            logits = model(text_tokens)\n",
    "            loss = F.cross_entropy(logits[:, 0, :], labels)\n",
    "            \n",
    "            test_acc_count += (logits[:, 0, :].argmax(1) == labels).sum().item()\n",
    "            test_steps += batch_size\n",
    "        \n",
    "        # Calculate average testing accuracy\n",
    "        test_acc = (test_acc_count / test_steps)\n",
    "        test_acc_list.append(test_acc)\n",
    "\n",
    "    # Print out the results for this epoch\n",
    "    print(f'Epoch {epoch+1}/{nepochs}')\n",
    "    print(f'Training Accuracy: {train_acc*100:.2f}%')\n",
    "    print(f'Testing Accuracy: {test_acc*100:.2f}%')"
   ]
  },
  {
   "cell_type": "code",
   "execution_count": 57,
   "metadata": {
    "execution": {
     "iopub.execute_input": "2024-06-18T22:48:47.152855Z",
     "iopub.status.busy": "2024-06-18T22:48:47.151998Z",
     "iopub.status.idle": "2024-06-18T22:48:47.530858Z",
     "shell.execute_reply": "2024-06-18T22:48:47.529924Z",
     "shell.execute_reply.started": "2024-06-18T22:48:47.152821Z"
    }
   },
   "outputs": [
    {
     "data": {
      "image/png": "[encoded data removed]",
      "text/plain": [
       "<Figure size 1000x500 with 1 Axes>"
      ]
     },
     "metadata": {},
     "output_type": "display_data"
    }
   ],
   "source": [
    "_ = plt.figure(figsize=(10, 5))\n",
    "_ = plt.plot(np.linspace(0, nepochs, len(training_loss_list)), training_loss_list)\n",
    "_ = plt.plot(np.linspace(0, nepochs, len(test_loss_list)), test_loss_list)\n",
    "\n",
    "_ = plt.legend([\"Train\", \"Test\"])\n",
    "_ = plt.title(\"Training Vs Test Loss\")\n",
    "_ = plt.xlabel(\"Epochs\")\n",
    "_ = plt.ylabel(\"Loss\")"
   ]
  },
  {
   "cell_type": "code",
   "execution_count": 58,
   "metadata": {
    "execution": {
     "iopub.execute_input": "2024-06-18T22:48:56.892987Z",
     "iopub.status.busy": "2024-06-18T22:48:56.892331Z",
     "iopub.status.idle": "2024-06-18T22:48:57.164995Z",
     "shell.execute_reply": "2024-06-18T22:48:57.163938Z",
     "shell.execute_reply.started": "2024-06-18T22:48:56.892956Z"
    }
   },
   "outputs": [],
   "source": [
    "# Save the model\n",
    "torch.save(model.state_dict(), 'transformer_sentiment_analysis.pth')"
   ]
  },
  {
   "cell_type": "code",
   "execution_count": 59,
   "metadata": {
    "execution": {
     "iopub.execute_input": "2024-06-18T22:50:26.841473Z",
     "iopub.status.busy": "2024-06-18T22:50:26.840838Z",
     "iopub.status.idle": "2024-06-18T22:50:27.168668Z",
     "shell.execute_reply": "2024-06-18T22:50:27.167747Z",
     "shell.execute_reply.started": "2024-06-18T22:50:26.841439Z"
    }
   },
   "outputs": [
    {
     "name": "stdout",
     "output_type": "stream",
     "text": [
      "Max Test Accuracy 85.96%\n"
     ]
    },
    {
     "data": {
      "image/png": "[encoded data removed]",
      "text/plain": [
       "<Figure size 1000x500 with 1 Axes>"
      ]
     },
     "metadata": {},
     "output_type": "display_data"
    }
   ],
   "source": [
    "# Have to run atleast one epoch fully through\n",
    "_ = plt.figure(figsize=(10, 5))\n",
    "_ = plt.plot(np.linspace(0, nepochs, len(training_acc_list)), training_acc_list)\n",
    "_ = plt.plot(np.linspace(0, nepochs, len(test_acc_list)), test_acc_list)\n",
    "\n",
    "_ = plt.legend([\"Train\", \"Test\"])\n",
    "_ = plt.title(\"Training Vs Test Accuracy\")\n",
    "_ = plt.xlabel(\"Epochs\")\n",
    "_ = plt.ylabel(\"Accuracy\")\n",
    "print(\"Max Test Accuracy %.2f%%\" % (np.max(test_acc_list) * 100))"
   ]
  }
 ],
 "metadata": {
  "kaggle": {
   "accelerator": "gpu",
   "dataSources": [
    {
     "datasetId": 5229156,
     "sourceId": 8723520,
     "sourceType": "datasetVersion"
    }
   ],
   "dockerImageVersionId": 30733,
   "isGpuEnabled": true,
   "isInternetEnabled": true,
   "language": "python",
   "sourceType": "notebook"
  },
  "kernelspec": {
   "display_name": "Python 3 (ipykernel)",
   "language": "python",
   "name": "python3"
  },
  "language_info": {
   "codemirror_mode": {
    "name": "ipython",
    "version": 3
   },
   "file_extension": ".py",
   "mimetype": "text/x-python",
   "name": "python",
   "nbconvert_exporter": "python",
   "pygments_lexer": "ipython3",
   "version": "3.10.12"
  }
 },
 "nbformat": 4,
 "nbformat_minor": 4
}
