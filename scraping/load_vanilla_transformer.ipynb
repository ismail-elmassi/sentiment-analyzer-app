{
 "cells": [
  {
   "cell_type": "code",
   "execution_count": 1,
   "id": "8fafc6c2-d9d7-4ed4-bf0b-e7802510db8a",
   "metadata": {},
   "outputs": [
    {
     "name": "stderr",
     "output_type": "stream",
     "text": [
      "/home/kennykguo/anaconda3/envs/deep-learning/lib/python3.8/site-packages/torchtext/data/__init__.py:4: UserWarning: \n",
      "/!\\ IMPORTANT WARNING ABOUT TORCHTEXT STATUS /!\\ \n",
      "Torchtext is deprecated and the last released version will be 0.18 (this one). You can silence this warning by calling the following at the beginnign of your scripts: `import torchtext; torchtext.disable_torchtext_deprecation_warning()`\n",
      "  warnings.warn(torchtext._TORCHTEXT_DEPRECATION_MSG)\n",
      "/home/kennykguo/anaconda3/envs/deep-learning/lib/python3.8/site-packages/torchtext/vocab/__init__.py:4: UserWarning: \n",
      "/!\\ IMPORTANT WARNING ABOUT TORCHTEXT STATUS /!\\ \n",
      "Torchtext is deprecated and the last released version will be 0.18 (this one). You can silence this warning by calling the following at the beginnign of your scripts: `import torchtext; torchtext.disable_torchtext_deprecation_warning()`\n",
      "  warnings.warn(torchtext._TORCHTEXT_DEPRECATION_MSG)\n",
      "/home/kennykguo/anaconda3/envs/deep-learning/lib/python3.8/site-packages/torchtext/utils.py:4: UserWarning: \n",
      "/!\\ IMPORTANT WARNING ABOUT TORCHTEXT STATUS /!\\ \n",
      "Torchtext is deprecated and the last released version will be 0.18 (this one). You can silence this warning by calling the following at the beginnign of your scripts: `import torchtext; torchtext.disable_torchtext_deprecation_warning()`\n",
      "  warnings.warn(torchtext._TORCHTEXT_DEPRECATION_MSG)\n",
      "/home/kennykguo/anaconda3/envs/deep-learning/lib/python3.8/site-packages/torchtext/transforms.py:4: UserWarning: \n",
      "/!\\ IMPORTANT WARNING ABOUT TORCHTEXT STATUS /!\\ \n",
      "Torchtext is deprecated and the last released version will be 0.18 (this one). You can silence this warning by calling the following at the beginnign of your scripts: `import torchtext; torchtext.disable_torchtext_deprecation_warning()`\n",
      "  warnings.warn(torchtext._TORCHTEXT_DEPRECATION_MSG)\n",
      "/home/kennykguo/anaconda3/envs/deep-learning/lib/python3.8/site-packages/torchtext/functional.py:4: UserWarning: \n",
      "/!\\ IMPORTANT WARNING ABOUT TORCHTEXT STATUS /!\\ \n",
      "Torchtext is deprecated and the last released version will be 0.18 (this one). You can silence this warning by calling the following at the beginnign of your scripts: `import torchtext; torchtext.disable_torchtext_deprecation_warning()`\n",
      "  warnings.warn(torchtext._TORCHTEXT_DEPRECATION_MSG)\n"
     ]
    }
   ],
   "source": [
    "# https://www.kaggle.com/code/emirkocak/in-depth-series-sentiment-analysis-w-transformers\n",
    "import torch\n",
    "import torch.nn as nn\n",
    "import torchtext\n",
    "from torchtext.data.functional import generate_sp_model, load_sp_model, sentencepiece_tokenizer, sentencepiece_numericalizer\n",
    "from torchtext.vocab import build_vocab_from_iterator\n",
    "import torchtext.transforms as T\n",
    "from torch.nn import functional as F\n",
    "import torch.optim as optim\n",
    "\n",
    "import sys\n",
    "import numpy as np\n",
    "import pandas as pd\n",
    "import matplotlib.pyplot as plt\n",
    "import io\n",
    "import math\n",
    "from torch.utils.data import Dataset, DataLoader\n",
    "import torch.utils.data.dataloader as dataloader\n",
    "import os\n",
    "import re"
   ]
  },
  {
   "cell_type": "code",
   "execution_count": 2,
   "id": "9b9f7afe-06eb-484c-895c-d3b29748efe9",
   "metadata": {},
   "outputs": [],
   "source": [
    "# Load the tokenizer and vocabulary\n",
    "model_path = \"../models/final_transformer.pth\"\n",
    "tokenizer_path = \"../SentencePiece/transformer.model\"\n",
    "vocab_path = \"../SentencePiece/transformer.vocab\""
   ]
  },
  {
   "cell_type": "code",
   "execution_count": 3,
   "id": "76dadbc5-e94c-4876-b457-24f149ef6ad8",
   "metadata": {},
   "outputs": [],
   "source": [
    "def yield_tokens(file_path):\n",
    "    with io.open(file_path, encoding='utf-8') as f:\n",
    "        # Iterate through each line in the file\n",
    "        for line in f:\n",
    "            # Accesses the vocab file, splits the line by tab, and gets the first entry (the actual token)\n",
    "            # Yield the token from the first column (split by tab)\n",
    "            yield [line.split(\"\\t\")[0]]\n",
    "\n",
    "# Build a vocabulary from the tokens yielded by the yield_tokens function\n",
    "    # <pad> is a padding token that is added to the end of a sentence to ensure the length of all sequences in a batch is the same\n",
    "    # <sos> signals the \"Start-Of-Sentence\" aka the start of the sequence\n",
    "    # <eos> signal the \"End-Of-Sentence\" aka the end of the sequence\n",
    "    # <unk> \"unknown\" token is used if a token is not contained in the vocab\n",
    "# From torchtext library (build_vocab_from_iterator)\n",
    "# Builds a generator object, that is treated like an iterator\n",
    "vocab = build_vocab_from_iterator(yield_tokens(\"../SentencePiece/transformer.vocab\"), specials=['<cls>', '<pad>', '<eos>', '<unk>'], special_first=True)\n",
    "\n",
    "# Set the default index for unknown tokens to the index of the '<unk>' token\n",
    "vocab.set_default_index(vocab['<unk>'])"
   ]
  },
  {
   "cell_type": "code",
   "execution_count": 4,
   "id": "c3a98bcd-6513-4e0e-912e-4d06f61c6ef5",
   "metadata": {},
   "outputs": [],
   "source": [
    "text_transform = T.Sequential(\n",
    "    T.SentencePieceTokenizer(tokenizer_path),\n",
    "    T.VocabTransform(vocab),\n",
    "    T.AddToken(vocab['<cls>'], begin=True),\n",
    "    T.Truncate(max_seq_len=254),\n",
    "    T.AddToken(vocab['<eos>'], begin=False),\n",
    "    T.ToTensor(padding_value=vocab['<pad>']),\n",
    "    T.PadTransform(max_length=256, pad_value=0),\n",
    ")\n"
   ]
  },
  {
   "cell_type": "code",
   "execution_count": 5,
   "id": "16052c77-2ff4-4bc9-84a7-f550c2455a6c",
   "metadata": {},
   "outputs": [],
   "source": [
    "class TokenDrop(nn.Module):\n",
    "    \"\"\" For a batch of tokens indices, randomly replace a non-specical token with <pad>.\n",
    "    prob (float): probability of dropping a token\n",
    "    pad_token (int): index for the <pad> token\n",
    "    num_special (int): Number of special tokens, assumed to be at the start of the vocab\n",
    "    \"\"\"\n",
    "\n",
    "    def __init__(self, prob=0.1, pad_token=0, num_special=4):\n",
    "        self.prob = prob\n",
    "        self.num_special = num_special\n",
    "        self.pad_token = pad_token\n",
    "\n",
    "    def __call__(self, sample):\n",
    "        # Randomly sample a bernoulli distribution with p = prob\n",
    "        # Create a mask where 1 means we will replace that token\n",
    "        # Discrete probability distribution\n",
    "        # Here we want to treat the ones as the indexes to drop\n",
    "        mask = torch.bernoulli(self.prob * torch.ones_like(sample)).long()\n",
    "        \n",
    "        # Only replace if the token is not a special token\n",
    "        # Ones or zeros. If cannot drop, 0, if can drop, 1\n",
    "        can_drop = (sample >= self.num_special).long()\n",
    "        # Multiply together to get the corresponding tokens to be dropped and not dropped\n",
    "        # Here, 1 represents drop, 0 represents do not drop\n",
    "        mask = mask * can_drop\n",
    "\n",
    "        # Make a mask of pad_token to use for replacing dropped indices with the pad_token\n",
    "        replace_with = (self.pad_token * torch.ones_like(sample)).long()\n",
    "        \"\"\" Sample is the original sample\n",
    "        The mask indicates what tokens can be replaced (0 to not be replaced, 1 to be replaced)\n",
    "        Replace_with is a list of of the pad_token tokens\n",
    "        Here, (1-mask) creates the complement mask. (now, 0 indicates drop, 1 indicates to not drop)\n",
    "        1-1 = 0, 1-0 = 0\n",
    "        Multiplying by sample, retains the original tokens that are not to be kept, and applies the mask on the sample\n",
    "        Here, mask * replace_with does elementwise multiplication and adds the corresponding pad_token to the tokens replaced\n",
    "        \"\"\"\n",
    "        sample_out = (1 - mask) * sample + mask * replace_with\n",
    "        \n",
    "        return sample_out"
   ]
  },
  {
   "cell_type": "code",
   "execution_count": 6,
   "id": "63358cd9-d18d-4569-9512-e4ea88cb5626",
   "metadata": {},
   "outputs": [],
   "source": [
    "class SinusoidalPosEmb(nn.Module):\n",
    "    def __init__(self, dim):\n",
    "        super().__init__()\n",
    "        self.dim = dim\n",
    "\n",
    "    def forward(self, x):\n",
    "        device = x.device\n",
    "        half_dim = self.dim // 2\n",
    "        emb = math.log(10000) / (half_dim - 1)\n",
    "        emb = torch.exp(torch.arange(half_dim, device=device) * -emb)\n",
    "        emb = x[:, None] * emb[None, :]\n",
    "        emb = torch.cat((emb.sin(), emb.cos()), dim=-1)\n",
    "        return emb\n",
    "\n",
    "class NanoTransformer(nn.Module):\n",
    "    def __init__(self, num_emb, output_size, hidden_size=128, num_heads=4):\n",
    "        super(NanoTransformer, self).__init__()\n",
    "        self.embedding = nn.Embedding(num_emb, hidden_size)\n",
    "        self.embedding.weight.data = 0.001 * self.embedding.weight.data\n",
    "        self.pos_embedding = SinusoidalPosEmb(hidden_size)\n",
    "        self.transformer = nn.Transformer(hidden_size, num_heads)\n",
    "        self.fc = nn.Linear(hidden_size, output_size)\n",
    "\n",
    "    def forward(self, x):\n",
    "        x = self.embedding(x) + self.pos_embedding(torch.arange(x.size(1), device=x.device))\n",
    "        x = x.permute(1, 0, 2)  # Transformer expects (seq_len, batch, embed_dim)\n",
    "        x = self.transformer(x)\n",
    "        x = x.mean(dim=0)\n",
    "        return self.fc(x)"
   ]
  },
  {
   "cell_type": "code",
   "execution_count": 7,
   "id": "defcd2a8-0bc5-41e1-aaf1-c7749d5f663d",
   "metadata": {},
   "outputs": [],
   "source": [
    "class NanoTransformer(nn.Module):\n",
    "    \"\"\"\n",
    "        This class implements a simplified Transformer model for sequence classification. \n",
    "        It uses an embedding layer for tokens, sinusoidal positional embeddings, \n",
    "        a Transformer, and a Linear layer.\n",
    "        \n",
    "        num_emb: The number of unique tokens in the vocabulary. (vocab_size)\n",
    "        output_size: The size of the output layer (number of classes). (4)\n",
    "        hidden_size: The dimension of the hidden layer in the Transformer block (default: 128)\n",
    "        num_heads: The number of heads in the multi-head attention layer (default: 4).\n",
    "    \"\"\"\n",
    "    def __init__(self, num_emb, output_size, hidden_size=128, num_heads=4):\n",
    "        \n",
    "        # Inherits from nn.Module's attributes\n",
    "        super(NanoTransformer, self).__init__()\n",
    "\n",
    "        # Create an embedding for each token\n",
    "        self.embedding = nn.Embedding(num_emb, hidden_size) # (vocab_size, 128)\n",
    "        \n",
    "        # Scaling down the embedding weights\n",
    "        self.embedding.weight.data = 0.001 * self.embedding.weight.data\n",
    "        \n",
    "        # Positional embedding\n",
    "        self.pos_emb = SinusoidalPosEmb(hidden_size)\n",
    "\n",
    "        # Multi-head attention\n",
    "        self.multihead_attn = nn.MultiheadAttention(hidden_size, num_heads = num_heads, batch_first = True)\n",
    "\n",
    "        # Linear layer\n",
    "        self.mlp = nn.Sequential(nn.Linear(hidden_size, hidden_size), # (batch_size, 128, 128)\n",
    "                                 nn.LayerNorm(hidden_size), # (batch_size, 128, 128)\n",
    "                                 nn.ELU(), # (batch_size, 128, 128)\n",
    "                                 nn.Linear(hidden_size, hidden_size)) # (batch_size, 128, 128)\n",
    "        \n",
    "        self.fc_out = nn.Linear(hidden_size, output_size) # (batch_size, 128, 128)\n",
    "\n",
    "    def forward(self, input_seq):\n",
    "        # batch_size, time_steps\n",
    "        batch_size, l = input_seq.shape # (32, 160)\n",
    "\n",
    "        input_embs = self.embedding(input_seq) # (32, 160) -> (32, 160, 128)\n",
    "        \n",
    "        # Add a unique embedding to each token embedding depending on it's position in the sequence\n",
    "        seq_indx = torch.arange(l) # (160)\n",
    "        \n",
    "        pos_emb = self.pos_emb(seq_indx).reshape(1, l, -1).expand(batch_size, l, -1) # (1, 160, 128) -> (32, 160, 128)\n",
    "        \n",
    "        pos_emb = pos_emb.to(device)\n",
    "        \n",
    "        embs = input_embs + pos_emb # (32, 160, 128) + (32, 160, 128)\n",
    "        \n",
    "        \n",
    "        output, attn_map = self.multihead_attn(embs, embs, embs) # (32, 160, 128)\n",
    "        \n",
    "        output = self.mlp(output) # (32, 160, 128)\n",
    "\n",
    "        return self.fc_out(output), attn_map # (32, 160, 4)"
   ]
  },
  {
   "cell_type": "code",
   "execution_count": 8,
   "id": "9e93c2df-2bb1-44b5-a3b4-51108441feec",
   "metadata": {},
   "outputs": [],
   "source": [
    "# Set the device to GPU if available, otherwise use CPU\n",
    "device = torch.device('cuda' if torch.cuda.is_available() else 'cpu')\n",
    "\n",
    "learning_rate = 1e-4\n",
    "\n",
    "nepochs = 20\n",
    "\n",
    "hidden_size = 256\n",
    "\n",
    "output_size = 2\n",
    "\n",
    "num_heads = 4\n",
    "\n",
    "tf_classifier = NanoTransformer(num_emb=len(vocab), output_size=2, hidden_size=hidden_size, num_heads=num_heads).to(device)\n",
    "tf_classifier = tf_classifier.to(device)\n",
    "# Initialize the optimizer\n",
    "optimizer = optim.Adam(tf_classifier.parameters(), lr=learning_rate, weight_decay=1e-4)\n",
    "\n",
    "# Cosine annealing scheduler to decay the learning rate\n",
    "lr_scheduler = optim.lr_scheduler.CosineAnnealingLR(optimizer, T_max=nepochs, eta_min=0)\n",
    "\n",
    "loss_fn = nn.CrossEntropyLoss()\n",
    "td = TokenDrop(prob=0.4)\n",
    "\n",
    "training_loss_list = []\n",
    "test_loss_list = []\n",
    "training_acc_list = []\n",
    "test_acc_list = []"
   ]
  },
  {
   "cell_type": "code",
   "execution_count": 9,
   "id": "825b26ef-58bd-4c11-9ef9-c1a3a7686074",
   "metadata": {},
   "outputs": [
    {
     "data": {
      "text/plain": [
       "NanoTransformer(\n",
       "  (embedding): Embedding(30003, 256)\n",
       "  (pos_emb): SinusoidalPosEmb()\n",
       "  (multihead_attn): MultiheadAttention(\n",
       "    (out_proj): NonDynamicallyQuantizableLinear(in_features=256, out_features=256, bias=True)\n",
       "  )\n",
       "  (mlp): Sequential(\n",
       "    (0): Linear(in_features=256, out_features=256, bias=True)\n",
       "    (1): LayerNorm((256,), eps=1e-05, elementwise_affine=True)\n",
       "    (2): ELU(alpha=1.0)\n",
       "    (3): Linear(in_features=256, out_features=256, bias=True)\n",
       "  )\n",
       "  (fc_out): Linear(in_features=256, out_features=2, bias=True)\n",
       ")"
      ]
     },
     "execution_count": 9,
     "metadata": {},
     "output_type": "execute_result"
    }
   ],
   "source": [
    "# Load the model\n",
    "tf_classifier.load_state_dict(torch.load(model_path))\n",
    "tf_classifier.eval()"
   ]
  },
  {
   "cell_type": "code",
   "execution_count": 51,
   "id": "814d83b8-4484-4890-9d21-0f1a9419815b",
   "metadata": {},
   "outputs": [
    {
     "name": "stdout",
     "output_type": "stream",
     "text": [
      "tensor([[    0,  5475,     3,  4291,  3131,  7370,  6652, 12558, 27459, 29717,\n",
      "         13064,  5475,     3, 15667, 13226, 24862,    87,  1829,    82,  5475,\n",
      "             3,  2362, 28035, 27704, 18880, 28684, 14192, 17175,  8773, 14886,\n",
      "         17175, 27459,     3,  5482,  5272, 17818, 29333,  6926, 12139, 27527,\n",
      "            26, 24208,    82,  5475,     3,  2308, 29722, 15667,  7682, 14507,\n",
      "         16394, 17175, 29407,    26,  4771, 14192, 27459, 13532, 27457,  5482,\n",
      "             3,  2321,  5475,     3,  2489,  3374,  4554,  4315,    26, 15430,\n",
      "          6507, 12179, 17175,    82,  5475,     3,  3435, 17175, 26438, 29723,\n",
      "            26,  4771, 18880, 28684, 14192, 17175, 16394, 27499, 15430,  9957,\n",
      "         28684, 29615, 27459, 16359, 16578, 27459, 13950, 21924,    82,  5475,\n",
      "             3,  2321, 14010, 27755, 21924,  7033, 21379, 20837, 27459, 28741,\n",
      "          9300,    26,  4315,  5492,  3151,  5475,     3,    82,     3,    26,\n",
      "          4315,    34, 13620,    82,  5475,     3,  2321, 14010, 29407,    26,\n",
      "          4771, 13219, 20837,  6136, 13223, 27457, 20810,     3, 17524, 10067,\n",
      "          4315, 20837, 24547,     3,  5475,     3,    82,     3, 13584, 21117,\n",
      "         20985,     3, 16337, 12175,    26,  4771, 17818,    87,  5475,     3,\n",
      "          3058,  2633,  4771,  4771, 13584, 21117,    82,  5475,     3,  1878,\n",
      "          5475,     3, 29243, 27704, 29297,  5952,  5475,     3,  1325,   906,\n",
      "         10067, 16337,    26,  1365, 14964, 20913, 29887,  6652, 20635, 29291,\n",
      "         15466,  6617, 16177, 20837, 20184, 18332,    82,  5475,     3,  1325,\n",
      "           906, 15631, 28277, 13583, 17024, 27459, 27945, 27457, 19997, 25468,\n",
      "            54,  1174,  4315, 15667, 27704,     3,  6652, 17175, 11850, 19324,\n",
      "             3, 27499, 18932, 27704, 14964,  5865,  6652,  5952, 22887, 24809,\n",
      "         29621,  6617, 13064, 18356, 27527,    82,  5475,     3, 29284, 16121,\n",
      "         27457, 24767, 29723,    26,  4771, 15667, 27704,  7620, 27457, 17738,\n",
      "         20837, 25468,    54,  1174,     2,     0]], device='cuda:0')\n",
      "tensor([[ 1.7448, -2.0674]], device='cuda:0')\n",
      "Sentence: Truly bad and easily the worst episode I have ever seen....ever. They tried to make up for it by giving it the, 'we know we are doing this' routine. That would have been funny if it weren't for the fact that 'The Simpsons' had already done it. And it still wouldn't make up for it if they had come up with the idea in the first place. The flashbacks took place as part of the usual character's (mainly J.D's) fantasies. The flashbacks weren't even of actual events that occurred, just compilations of say, J.D falling over or, i don't know.... Elliott falling over. If I wanted to watch a Scrubs compilation i'd go on youtube and not waste half an hour of my life. Scrubs has ultimately fallen into the trap that most sit-coms have to, and it disappoints me, they managed to go 5 and a quarter seasons without an episode like this.  I was hoping that scrubs wouldn't have to be that kind of sit-com. And just as a passing thought, why the hell was Dr.Cox bald? -> Predicted Sentiment: tensor([[ 1.7448, -2.0674]], device='cuda:0')\n"
     ]
    }
   ],
   "source": [
    "# Example test cases\n",
    "test_sentences = [\n",
    "    \"Truly bad and easily the worst episode I have ever seen....ever. They tried to make up for it by giving it the, 'we know we are doing this' routine. That would have been funny if it weren't for the fact that 'The Simpsons' had already done it. And it still wouldn't make up for it if they had come up with the idea in the first place. The flashbacks took place as part of the usual character's (mainly J.D's) fantasies. The flashbacks weren't even of actual events that occurred, just compilations of say, J.D falling over or, i don't know.... Elliott falling over. If I wanted to watch a Scrubs compilation i'd go on youtube and not waste half an hour of my life. Scrubs has ultimately fallen into the trap that most sit-coms have to, and it disappoints me, they managed to go 5 and a quarter seasons without an episode like this.  I was hoping that scrubs wouldn't have to be that kind of sit-com. And just as a passing thought, why the hell was Dr.Cox bald?\"\n",
    "]\n",
    "\n",
    "# Transform test sentences into tokens\n",
    "test_tokens = [text_transform([sentence]).to(device) for sentence in test_sentences]\n",
    "\n",
    "# Perform inference\n",
    "with torch.no_grad():\n",
    "    for tokens in test_tokens:\n",
    "        \n",
    "        # Make predictions\n",
    "\n",
    "        print(tokens) \n",
    "        \n",
    "        predictions, attn_map = tf_classifier(tokens)\n",
    "        \n",
    "        predicted_classes = predictions[:, 0, :]\n",
    "        \n",
    "        print(predicted_classes)\n",
    "\n",
    "        # Print results\n",
    "        for sentence, predicted_class in zip(test_sentences, predicted_classes):\n",
    "            print(f\"Sentence: {sentence} -> Predicted Sentiment: {predicted_classes}\")\n"
   ]
  },
  {
   "cell_type": "code",
   "execution_count": 53,
   "id": "7f7af8c3-12a9-4818-b221-bbd67ddb2e0b",
   "metadata": {},
   "outputs": [
    {
     "data": {
      "text/plain": [
       "torch.Size([1, 256, 256])"
      ]
     },
     "execution_count": 53,
     "metadata": {},
     "output_type": "execute_result"
    }
   ],
   "source": [
    "attn_map.shape"
   ]
  },
  {
   "cell_type": "code",
   "execution_count": 50,
   "id": "0aeed70f-a168-4b43-8557-caa06aae39ba",
   "metadata": {},
   "outputs": [],
   "source": [
    "att_map = attn_map[0, 0]\n",
    "top5 = att_map.argsort(descending=True)[:10]\n",
    "top5_tokens = vocab.lookup_tokens(tokens[0, top5].cpu().numpy())"
   ]
  },
  {
   "cell_type": "code",
   "execution_count": 49,
   "id": "3a086616-39fb-461e-9fbd-a3c4f6398033",
   "metadata": {},
   "outputs": [
    {
     "data": {
      "text/plain": [
       "['▁(', '▁if', '▁if', '▁idea', 'ru', '▁been', 'ly', '▁easily', '▁or', '▁the']"
      ]
     },
     "execution_count": 49,
     "metadata": {},
     "output_type": "execute_result"
    }
   ],
   "source": [
    "top5_tokens"
   ]
  }
 ],
 "metadata": {
  "kernelspec": {
   "display_name": "Python (deep-learning)",
   "language": "python",
   "name": "deep-learning"
  },
  "language_info": {
   "codemirror_mode": {
    "name": "ipython",
    "version": 3
   },
   "file_extension": ".py",
   "mimetype": "text/x-python",
   "name": "python",
   "nbconvert_exporter": "python",
   "pygments_lexer": "ipython3",
   "version": "3.8.19"
  }
 },
 "nbformat": 4,
 "nbformat_minor": 5
}
