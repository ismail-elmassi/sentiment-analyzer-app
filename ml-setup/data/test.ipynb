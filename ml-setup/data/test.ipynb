{
 "cells": [
  {
   "cell_type": "code",
   "execution_count": 9,
   "id": "129db12b-bd84-456a-afe1-3b6548be7967",
   "metadata": {},
   "outputs": [
    {
     "name": "stdout",
     "output_type": "stream",
     "text": [
      "Positive count: 25000\n",
      "Negative count: 25000\n"
     ]
    }
   ],
   "source": [
    "import pandas as pd\n",
    "\n",
    "# Load the CSV file\n",
    "file_path = 'reviews.csv'  # Replace with the actual file path of your CSV file\n",
    "df = pd.read_csv(file_path, header=None, encoding='latin1')\n",
    "\n",
    "# Assuming the label is in the last column\n",
    "labels = df.iloc[:, -1]\n",
    "\n",
    "# Count the positive and negative entries\n",
    "negative_count = (labels == 0).sum()\n",
    "positive_count = (labels == 1).sum()\n",
    "\n",
    "print(f\"Positive count: {positive_count}\")\n",
    "print(f\"Negative count: {negative_count}\")\n"
   ]
  }
 ],
 "metadata": {
  "kernelspec": {
   "display_name": "Python 3 (ipykernel)",
   "language": "python",
   "name": "python3"
  },
  "language_info": {
   "codemirror_mode": {
    "name": "ipython",
    "version": 3
   },
   "file_extension": ".py",
   "mimetype": "text/x-python",
   "name": "python",
   "nbconvert_exporter": "python",
   "pygments_lexer": "ipython3",
   "version": "3.8.19"
  }
 },
 "nbformat": 4,
 "nbformat_minor": 5
}
